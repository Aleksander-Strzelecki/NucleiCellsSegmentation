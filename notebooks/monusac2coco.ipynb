{
 "cells": [
  {
   "cell_type": "markdown",
   "metadata": {},
   "source": [
    "# MoNuSAC to COCO"
   ]
  },
  {
   "cell_type": "code",
   "execution_count": null,
   "metadata": {},
   "outputs": [],
   "source": [
    "import os\n",
    "import cv2\n",
    "import numpy as np\n",
    "import shutil\n",
    "import json\n",
    "\n",
    "from PIL import Image\n",
    "from pycococreatortools import pycococreatortools\n",
    "from tqdm import tqdm"
   ]
  },
  {
   "cell_type": "code",
   "execution_count": null,
   "metadata": {},
   "outputs": [],
   "source": [
    "masks_src_dir = '../data/interim/MoNuSAC/MoNuSAC_masks'\n",
    "img_dir = '../data/raw/MoNuSAC/MoNuSAC_images_and_annotations'\n",
    "counter = 0\n",
    "monusac_dir = '../data/interim/MoNuSAC_precoco'\n",
    "\n",
    "for patient_dir in os.listdir(masks_src_dir):\n",
    "    f = os.path.join(masks_src_dir, patient_dir)\n",
    "    for image_dir in os.listdir(f):\n",
    "        dir_create = os.path.join(monusac_dir, 'image_' + str(counter), 'images')\n",
    "        os.makedirs(dir_create, exist_ok=True)\n",
    "        masks_dir = os.path.join(monusac_dir, 'image_' + str(counter), 'masks')\n",
    "        os.makedirs(masks_dir, exist_ok=True)\n",
    "        for categorie in os.listdir(os.path.join(f, image_dir)):\n",
    "            # print(categorie)\n",
    "            os.makedirs(os.path.join(masks_dir, categorie), exist_ok=True)\n",
    "            mask_counter = 0\n",
    "            for mask in os.listdir(os.path.join(f, image_dir, categorie)):\n",
    "                mask_path = os.path.join(f, image_dir, categorie, mask)\n",
    "                img = cv2.imread(mask_path, cv2.IMREAD_UNCHANGED)\n",
    "                for i in np.unique(img):\n",
    "                    if i > 0:\n",
    "                        # print(img == i)\n",
    "                        # mask = Image.fromarray(img == i)\n",
    "                        # print((img == i).astype(np.uint8))\n",
    "                        mask = (img == i).astype(np.uint8) * 255\n",
    "                        cv2.imwrite(os.path.join(masks_dir, categorie, 'mask_' + str(mask_counter) + '.jpg'), mask)\n",
    "                        # mask = (img == i)\n",
    "                        # mask.save(os.path.join(masks_dir, categorie, 'mask_' + str(mask_counter) + '.jpg'))\n",
    "                        mask_counter += 1\n",
    "                # print(img)\n",
    "        # print(img_path)\n",
    "        dst_image_path = os.path.join(dir_create, 'image_' + str(counter) + '.jpg')\n",
    "        img_path = os.path.join(img_dir, patient_dir, image_dir+str('.tif'))\n",
    "        img = cv2.imread(img_path)\n",
    "        cv2.imwrite(dst_image_path, img)\n",
    "        counter += 1\n",
    "    img_path = os.path.join(img_dir, patient_dir)"
   ]
  },
  {
   "cell_type": "code",
   "execution_count": null,
   "metadata": {},
   "outputs": [],
   "source": [
    "# loop to save images in one folder as desired by detextron 2\n",
    "def final_directory_structure(input_path, output_path):\n",
    "    print(input_path)\n",
    "    images = os.listdir(input_path)\n",
    "    \n",
    "    if not os.path.isdir(output_path):\n",
    "        os.makedirs(output_path)\n",
    "        \n",
    "    for img in tqdm(images):\n",
    "        shutil.copyfile(input_path+img+'/images/'+img+'.jpg', output_path+img+'.jpg')\n",
    "        # time.sleep(0.05)"
   ]
  },
  {
   "cell_type": "code",
   "execution_count": null,
   "metadata": {},
   "outputs": [],
   "source": [
    "def convert_to_coco_format(image_path, \n",
    "                           output_path, \n",
    "                           categories, \n",
    "                           dataset_name):\n",
    "    '''\n",
    "    this function converts the pannuke dataset format to the coco format which makes it easier to apply detectron \n",
    "    2 algorithms on.\n",
    "    '''\n",
    "    images_name = os.listdir(image_path)\n",
    "    cocoformat = {\"images\":[], \"annotations\":[], \"categories\":[]}\n",
    "    \n",
    "    for i in range(len(categories)):\n",
    "        cocoformat[\"categories\"].append({\"id\": int(i+1), \"name\": categories[i], \"supercategory\": dataset_name})\n",
    "    \n",
    "    m_id = 1\n",
    "    \n",
    "    for i, img in tqdm(enumerate(images_name)):\n",
    "#         print(img)\n",
    "        image = Image.open(image_path + img + \"/images/\" + img + \".jpg\")\n",
    "        image_info = pycococreatortools.create_image_info(int(i+1), \n",
    "                                                          img + \".jpg\" , \n",
    "                                                          image.size)\n",
    "        \n",
    "        cocoformat[\"images\"].append(image_info)\n",
    "        c_types = os.listdir(image_path + img + \"/masks/\")\n",
    "        \n",
    "        for c in c_types:\n",
    "#             print(c)\n",
    "            masks = os.listdir(image_path + img + \"/masks/\"+c)\n",
    "            for msk in masks:\n",
    "#                 print(msk)\n",
    "                category_info = {'id': int(categories.index(c)+1), 'is_crowd': False}\n",
    "                m_image = np.asarray(Image.open(image_path + img + \"/masks/\"+c+\"/\"+ msk).convert('1')).astype(np.uint8)\n",
    "                annotation_info = pycococreatortools.create_annotation_info(\n",
    "                    m_id, int(i+1), category_info, m_image,\n",
    "                    image.size, tolerance=2)\n",
    "                m_id = m_id + 1\n",
    "                \n",
    "                if annotation_info is not None:\n",
    "                    cocoformat[\"annotations\"].append(annotation_info) \n",
    "                    \n",
    "#         time.sleep(0.1)\n",
    "    with open(output_path, \"w\") as f:\n",
    "        json.dump(cocoformat, f)"
   ]
  },
  {
   "cell_type": "code",
   "execution_count": null,
   "metadata": {},
   "outputs": [],
   "source": [
    "train_input_path = '../data/interim/MoNuSAC_precoco/'\n",
    "train_output_path = '../data/processed/MoNuSAC_coco/train/'\n",
    "\n",
    "final_directory_structure(train_input_path, train_output_path)"
   ]
  },
  {
   "cell_type": "code",
   "execution_count": null,
   "metadata": {},
   "outputs": [],
   "source": [
    "train_path = '../data/interim/MoNuSAC_precoco/'\n",
    "train_output_path = '../data/processed/MoNuSAC_coco/train.json'\n",
    "\n",
    "convert_to_coco_format(image_path = train_path, \n",
    "                       output_path = train_output_path, \n",
    "                       categories = [\"Epithelial\",\"Lymphocyte\",\"Macrophage\",\"Neutrophil\"],\n",
    "                       dataset_name=\"MoNuSAC\")"
   ]
  },
  {
   "cell_type": "code",
   "execution_count": null,
   "metadata": {},
   "outputs": [],
   "source": [
    "!rm -r ../data/interim/MoNuSAC_precoco"
   ]
  }
 ],
 "metadata": {
  "kernelspec": {
   "display_name": "pt",
   "language": "python",
   "name": "pt"
  },
  "language_info": {
   "codemirror_mode": {
    "name": "ipython",
    "version": 3
   },
   "file_extension": ".py",
   "mimetype": "text/x-python",
   "name": "python",
   "nbconvert_exporter": "python",
   "pygments_lexer": "ipython3",
   "version": "3.11.5"
  }
 },
 "nbformat": 4,
 "nbformat_minor": 2
}
