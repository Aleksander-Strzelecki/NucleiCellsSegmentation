{
 "cells": [
  {
   "cell_type": "code",
   "execution_count": null,
   "metadata": {},
   "outputs": [],
   "source": [
    "import os\n",
    "import numpy as np\n",
    "import glob\n",
    "import cv2\n",
    "import scipy.io as sio\n",
    "from PIL import Image\n",
    "import scipy\n",
    "import scipy.ndimage\n",
    "import xlwt \n",
    "from xlwt import Workbook \n",
    "import matplotlib.pyplot as plt"
   ]
  },
  {
   "cell_type": "markdown",
   "metadata": {},
   "source": [
    "# MAT format"
   ]
  },
  {
   "cell_type": "code",
   "execution_count": null,
   "metadata": {},
   "outputs": [],
   "source": [
    "predicted_mask = sio.loadmat(\"../../data/processed/MoNuSAC_test/predicted_masks/TCGA-49-6743-01Z-00-DX2/TCGA-49-6743-01Z-00-DX2_004/Epithelial/mask.mat\"\n",
    "                             )\n",
    "ground_truth = sio.loadmat(\"../../data/processed/MoNuSAC_test/grand_truth/TCGA-49-6743-01Z-00-DX2/TCGA-49-6743-01Z-00-DX2_004/Epithelial/637_mask.mat\")\n",
    "              \n",
    "predicted_mask = predicted_mask['n_ary_mask']\n",
    "ground_truth = ground_truth['n_ary_mask']\n",
    "\n",
    "    \n",
    "# Compute Panoptic Quality\n",
    "plt.figure(figsize=(40,20))\n",
    "\n",
    "plt.subplot(1,3,1)\n",
    "plt.imshow(predicted_mask[:2000,:2000])\n",
    "plt.axis('off')\n",
    "plt.title('predicted_mask', fontsize=25)\n",
    "\n",
    "plt.subplot(1,3,2)\n",
    "plt.imshow(ground_truth[:2000,:2000])\n",
    "plt.axis('off')\n",
    "plt.title('ground_truth', fontsize=25)\n",
    "\n",
    "plt.show()"
   ]
  },
  {
   "cell_type": "markdown",
   "metadata": {},
   "source": [
    "# TIF format"
   ]
  },
  {
   "cell_type": "code",
   "execution_count": null,
   "metadata": {},
   "outputs": [],
   "source": [
    "# predicted_mask = sio.loadmat(\"../../data/processed/MoNuSAC_test/predicted_masks/TCGA-49-6743-01Z-00-DX2/TCGA-49-6743-01Z-00-DX2_004/Epithelial/mask.mat\"\n",
    "ground_truth = cv2.imread(\"../../data/processed/MoNuSAC_test/grand_truth/TCGA-49-6743-01Z-00-DX2/TCGA-49-6743-01Z-00-DX2_004/Epithelial/21_mask.tif\", cv2.IMREAD_UNCHANGED)\n",
    "              \n",
    "    \n",
    "# Compute Panoptic Quality\n",
    "plt.figure(figsize=(40,20))\n",
    "\n",
    "# plt.subplot(1,3,1)\n",
    "# plt.imshow(predicted_mask[:2000,:2000])\n",
    "# plt.axis('off')\n",
    "# plt.title('predicted_mask', fontsize=25)\n",
    "\n",
    "plt.subplot(1,3,2)\n",
    "plt.imshow(ground_truth[:4000,:4000])\n",
    "plt.axis('off')\n",
    "plt.title('ground_truth', fontsize=25)\n",
    "\n",
    "plt.show()"
   ]
  }
 ],
 "metadata": {
  "kernelspec": {
   "display_name": "pt",
   "language": "python",
   "name": "pt"
  },
  "language_info": {
   "codemirror_mode": {
    "name": "ipython",
    "version": 3
   },
   "file_extension": ".py",
   "mimetype": "text/x-python",
   "name": "python",
   "nbconvert_exporter": "python",
   "pygments_lexer": "ipython3",
   "version": "3.11.5"
  }
 },
 "nbformat": 4,
 "nbformat_minor": 2
}
