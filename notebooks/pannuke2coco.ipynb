{
 "cells": [
  {
   "cell_type": "markdown",
   "metadata": {},
   "source": [
    "# PanNuke to COCO"
   ]
  },
  {
   "cell_type": "code",
   "execution_count": null,
   "metadata": {},
   "outputs": [],
   "source": [
    "# import libraries for pre processing\n",
    "import os\n",
    "import random\n",
    "import math\n",
    "import numpy as np\n",
    "import json\n",
    "import warnings\n",
    "import shutil\n",
    "import random\n",
    "\n",
    "from PIL import Image\n",
    "from src.utils.pycococreator.pycococreatortools import pycococreatortools\n",
    "from tqdm import tqdm\n",
    "\n",
    "warnings.filterwarnings('ignore')"
   ]
  },
  {
   "cell_type": "code",
   "execution_count": null,
   "metadata": {},
   "outputs": [],
   "source": [
    "def organize_data(image_path, mask_path, test_split):\n",
    "    '''\n",
    "    Organizes the images and masks and splits it into train and test splits\n",
    "    '''\n",
    "    index = []\n",
    "    cell_names = [\"neoplastic\",\"inflammatory\",\"softtissue\",\"dead\",\"epithelial\"]\n",
    "    # Loading the data\n",
    "    images = np.load(image_path, mmap_mode='r+')\n",
    "    masks = np.load(mask_path, mmap_mode='r+')\n",
    "\n",
    "    print('----------Loaded data----------')\n",
    "    \n",
    "    # Changing the datatype to reduce the size\n",
    "    images = images.astype(np.int16)\n",
    "    masks = masks.astype(np.int16)\n",
    "    \n",
    "    print('----------Reduced size----------')\n",
    "\n",
    "    # Selecting the list of indexes of images with no cells ()\n",
    "    if images.shape[0]== 2656:\n",
    "        index = [584, 586, 604, 748, 750, 780, 811, 812, 813, 828, 830, 832, 833,\n",
    "                 996, 998, 1147, 1148, 1149, 1152, 1155, 1158, 1160, 1161, 1164,\n",
    "                 1166, 1432, 1433, 1512, 1578, 1614, 1615, 1616, 1617, 1618, 1619,\n",
    "                 1620, 1629, 1632, 1704, 1705, 1707, 1708, 1709, 1723, 1724, 1725,\n",
    "                 1748, 1749, 1750, 1751, 1752, 1753, 1859, 1864, 1870, 1880, 1923,\n",
    "                 1939, 1940, 1945, 1946, 1966, 1967, 1968, 1969, 1970, 1971, 1972,\n",
    "                 1973, 1974, 1975, 1976, 1977, 1978, 1979, 2007, 2009, 2019, 2020,\n",
    "                 2022, 2098, 2108, 2109, 2110, 2111, 2115, 2131, 2132, 2133, 2134,\n",
    "                 2135, 2137, 2163, 2164, 2165, 2174, 2176, 2202, 2263, 2264, 2265,\n",
    "                 2267, 2406, 2407, 2462, 2463, 2464, 2465, 2515, 2550, 2551, 2552,\n",
    "                 2626, 2636, 2639, 2640]   \n",
    "\n",
    "    print('----------Removed images with no cells----------')\n",
    "\n",
    "    # Deleting indexes with images which contain no cells\n",
    "    images = np.delete(images, index, 0)\n",
    "    masks = np.delete(masks, index, 0)\n",
    "\n",
    "    indices = list(range(len(images)))\n",
    "    random.shuffle(indices)\n",
    "    train_indices = indices[:math.floor(test_split*len(indices))]\n",
    "\n",
    "    print('----------Splitting indices----------')\n",
    "\n",
    "    # Organising folders\n",
    "    if not os.path.isdir('Pannuke_dataset'):\n",
    "        os.mkdir('Pannuke_dataset/')    \n",
    "    \n",
    "    for i, img in enumerate(images):\n",
    "        if i in train_indices:\n",
    "            phase = \"train\"\n",
    "        else:\n",
    "            phase = \"val\"\n",
    "        im = Image.fromarray(img.astype(np.uint8))\n",
    "        if not os.path.isdir('Pannuke_dataset/'+phase+'/image_'+str(i)+'/images/'):\n",
    "            os.makedirs('Pannuke_dataset/'+phase+'/image_'+str(i)+'/images/')\n",
    "        im.save('Pannuke_dataset/'+phase+'/image_'+str(i)+'/images/image_'+str(i)+'.jpg')\n",
    "        for k in range(masks[i].shape[2]-1):\n",
    "            cell_mask = masks[i][:,:,k]\n",
    "            indiviudal_masks = []\n",
    "            unique_colors = np.unique(cell_mask)\n",
    "            if len(unique_colors) > 1:\n",
    "                for l in range(len(unique_colors)-1):\n",
    "                    ms = Image.fromarray(cell_mask == unique_colors[l+1])\n",
    "                    if not os.path.isdir('Pannuke_dataset/'+phase+'/image_'+str(i)+'/masks/'+cell_names[k]):\n",
    "                        os.makedirs('Pannuke_dataset/'+phase+'/image_'+str(i)+'/masks/'+cell_names[k])\n",
    "                    ms.save('Pannuke_dataset/'+phase+'/image_'+str(i)+'/masks/'+cell_names[k]+'/masks_'+str(l)+'.jpg')\n",
    "    print('----------Finished organising----------')"
   ]
  },
  {
   "cell_type": "code",
   "execution_count": null,
   "metadata": {},
   "outputs": [],
   "source": [
    "image_path = './images.npy'\n",
    "mask_path = './masks.npy'\n",
    "\n",
    "organize_data(image_path, mask_path, 0.8)"
   ]
  },
  {
   "cell_type": "code",
   "execution_count": null,
   "metadata": {},
   "outputs": [],
   "source": [
    "# loop to save images in one folder as desired by detextron 2\n",
    "def final_directory_structure(input_path, output_path):\n",
    "    print(input_path)\n",
    "    images = os.listdir(input_path)\n",
    "    \n",
    "    if not os.path.isdir(output_path):\n",
    "        os.makedirs(output_path)\n",
    "        \n",
    "    for img in tqdm(images):\n",
    "        shutil.copyfile(input_path+img+'/images/'+img+'.jpg', output_path+img+'.jpg')\n",
    "        # time.sleep(0.05)"
   ]
  },
  {
   "cell_type": "code",
   "execution_count": null,
   "metadata": {},
   "outputs": [],
   "source": [
    "train_input_path = \"./Pannuke_dataset/train/\"\n",
    "train_output_path = './dataset/train/'\n",
    "\n",
    "final_directory_structure(train_input_path, train_output_path)"
   ]
  },
  {
   "cell_type": "code",
   "execution_count": null,
   "metadata": {},
   "outputs": [],
   "source": [
    "val_input_path = \"./Pannuke_dataset/val/\"\n",
    "val_output_path = './dataset/val/'\n",
    "\n",
    "final_directory_structure(val_input_path, val_output_path)"
   ]
  },
  {
   "cell_type": "code",
   "execution_count": null,
   "metadata": {},
   "outputs": [],
   "source": [
    "def pannuke_to_coco_format(image_path, \n",
    "                           output_path, \n",
    "                           categories = [\"neoplastic\",\"inflammatory\",\"softtissue\",\"dead\",\"epithelial\"] , \n",
    "                           dataset_name = \"pannuke\"):\n",
    "    '''\n",
    "    this function converts the pannuke dataset format to the coco format which makes it easier to apply detectron \n",
    "    2 algorithms on.\n",
    "    '''\n",
    "    images_name = os.listdir(image_path)\n",
    "    cocoformat = {\"licenses\":[], \"info\":[], \"images\":[], \"annotations\":[], \"categories\":[]}\n",
    "    \n",
    "    for i in range(len(categories)):\n",
    "        cocoformat[\"categories\"].append({\"id\": int(i+1), \"name\": categories[i], \"supercategory\": dataset_name})\n",
    "    \n",
    "    m_id = 1\n",
    "    \n",
    "    for i, img in tqdm(enumerate(images_name)):\n",
    "#         print(img)\n",
    "        image = Image.open(image_path + img + \"/images/\" + img + \".jpg\")\n",
    "        image_info = pycococreatortools.create_image_info(int(i+1), \n",
    "                                                          img + \".jpg\" , \n",
    "                                                          image.size)\n",
    "        \n",
    "        cocoformat[\"images\"].append(image_info)\n",
    "        c_types = os.listdir(image_path + img + \"/masks/\")\n",
    "        \n",
    "        for c in c_types:\n",
    "#             print(c)\n",
    "            masks = os.listdir(image_path + img + \"/masks/\"+c)\n",
    "            for msk in masks:\n",
    "#                 print(msk)\n",
    "                category_info = {'id': int(categories.index(c)+1), 'is_crowd': False}\n",
    "                m_image = np.asarray(Image.open(image_path + img + \"/masks/\"+c+\"/\"+ msk).convert('1')).astype(np.uint8)\n",
    "                annotation_info = pycococreatortools.create_annotation_info(\n",
    "                    m_id, int(i+1), category_info, m_image,\n",
    "                    image.size, tolerance=2)\n",
    "                m_id = m_id + 1\n",
    "                \n",
    "                if annotation_info is not None:\n",
    "                    cocoformat[\"annotations\"].append(annotation_info) \n",
    "                    \n",
    "#         time.sleep(0.1)\n",
    "    with open(output_path, \"w\") as f:\n",
    "        json.dump(cocoformat, f)"
   ]
  },
  {
   "cell_type": "code",
   "execution_count": null,
   "metadata": {},
   "outputs": [],
   "source": [
    "train_path = './Pannuke_dataset/train/'\n",
    "train_output_path = './dataset/train.json'\n",
    "\n",
    "pannuke_to_coco_format(image_path = train_path, \n",
    "                       output_path = train_output_path, \n",
    "                       categories = [\"neoplastic\",\"inflammatory\",\"softtissue\",\"dead\",\"epithelial\"])"
   ]
  },
  {
   "cell_type": "code",
   "execution_count": null,
   "metadata": {},
   "outputs": [],
   "source": [
    "val_path = './Pannuke_dataset/val/'\n",
    "val_output_path = './dataset/val.json'\n",
    "\n",
    "pannuke_to_coco_format(image_path = val_path, \n",
    "                       output_path = val_output_path, \n",
    "                       categories = [\"neoplastic\",\"inflammatory\",\"softtissue\",\"dead\",\"epithelial\"])"
   ]
  }
 ],
 "metadata": {
  "kernelspec": {
   "display_name": "pt",
   "language": "python",
   "name": "pt"
  },
  "language_info": {
   "name": "python",
   "version": "3.11.5"
  }
 },
 "nbformat": 4,
 "nbformat_minor": 2
}
